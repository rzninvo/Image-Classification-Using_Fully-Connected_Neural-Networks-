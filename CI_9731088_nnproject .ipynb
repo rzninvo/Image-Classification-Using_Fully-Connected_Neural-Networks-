{
 "cells": [
  {
   "cell_type": "markdown",
   "id": "82e6b878",
   "metadata": {},
   "source": [
    "<h1>Part 1: Loading the data </h1>"
   ]
  },
  {
   "cell_type": "code",
   "execution_count": 1,
   "id": "4e72e753",
   "metadata": {},
   "outputs": [
    {
     "name": "stdout",
     "output_type": "stream",
     "text": [
      "['airplane', 'automobile', 'bird', 'cat', 'deer', 'dog', 'frog', 'horse', 'ship', 'truck']\n"
     ]
    }
   ],
   "source": [
    "import numpy as np\n",
    "import os\n",
    "from tqdm import tqdm\n",
    "import matplotlib.image as mpimg\n",
    "import matplotlib.pyplot as plt\n",
    "from sklearn.utils import shuffle\n",
    "\n",
    "def rgb2gray(rgb):\n",
    " r, g, b = rgb[:, :, :, 0], rgb[:, :, :,1], rgb[:, :, :, 2]\n",
    " gray = 0.2989 * r + 0.5870 * g + 0.1140 * b\n",
    " return gray\n",
    "\n",
    "X_train = []\n",
    "base_path = \"CIFAR10/train/\"\n",
    "folders = os.listdir(\"CIFAR10/train/\")\n",
    "print(os.listdir(\"CIFAR10/train/\"))"
   ]
  },
  {
   "cell_type": "code",
   "execution_count": 2,
   "id": "3fae0f44",
   "metadata": {},
   "outputs": [
    {
     "name": "stderr",
     "output_type": "stream",
     "text": [
      "100%|████████████████████████████████████████████████████████████████████████████| 5000/5000 [00:01<00:00, 3123.05it/s]\n",
      "100%|████████████████████████████████████████████████████████████████████████████| 5000/5000 [00:01<00:00, 3320.05it/s]\n",
      "100%|████████████████████████████████████████████████████████████████████████████| 5000/5000 [00:01<00:00, 3357.97it/s]\n",
      "100%|████████████████████████████████████████████████████████████████████████████| 5000/5000 [00:01<00:00, 3227.89it/s]\n"
     ]
    }
   ],
   "source": [
    "for i in range(4):\n",
    "    image_names = os.listdir(base_path + folders[i])\n",
    "    for image_name in tqdm(image_names):\n",
    "        X_train.append(mpimg.imread(base_path + folders[i] + \"/\" + image_name))\n",
    "x_train = np.array(X_train)"
   ]
  },
  {
   "cell_type": "code",
   "execution_count": 3,
   "id": "8ef9eaf1",
   "metadata": {},
   "outputs": [
    {
     "name": "stdout",
     "output_type": "stream",
     "text": [
      "['airplane', 'automobile', 'bird', 'cat', 'deer', 'dog', 'frog', 'horse', 'ship', 'truck']\n"
     ]
    }
   ],
   "source": [
    "X_test = []\n",
    "base_path = \"CIFAR10/test/\"\n",
    "folders = os.listdir(\"CIFAR10/test/\")\n",
    "print(os.listdir(\"CIFAR10/test/\"))"
   ]
  },
  {
   "cell_type": "code",
   "execution_count": 4,
   "id": "b59de4c3",
   "metadata": {},
   "outputs": [
    {
     "name": "stderr",
     "output_type": "stream",
     "text": [
      "100%|████████████████████████████████████████████████████████████████████████████| 1000/1000 [00:00<00:00, 2584.23it/s]\n",
      "100%|████████████████████████████████████████████████████████████████████████████| 1000/1000 [00:00<00:00, 3322.27it/s]\n",
      "100%|████████████████████████████████████████████████████████████████████████████| 1000/1000 [00:00<00:00, 3236.23it/s]\n",
      "100%|████████████████████████████████████████████████████████████████████████████| 1000/1000 [00:00<00:00, 3321.85it/s]\n"
     ]
    }
   ],
   "source": [
    "for i in range(4):\n",
    "    image_names = os.listdir(base_path + folders[i])\n",
    "    for image_name in tqdm(image_names):\n",
    "        X_test.append(mpimg.imread(base_path + folders[i] + \"/\" + image_name))\n",
    "x_test = np.array(X_test)"
   ]
  },
  {
   "cell_type": "code",
   "execution_count": 5,
   "id": "e15463f4",
   "metadata": {},
   "outputs": [
    {
     "name": "stderr",
     "output_type": "stream",
     "text": [
      "100%|█████████████████████████████████████████████████████████████████████████| 5000/5000 [00:00<00:00, 2462891.37it/s]\n",
      "100%|█████████████████████████████████████████████████████████████████████████| 5000/5000 [00:00<00:00, 1250090.61it/s]\n",
      "100%|█████████████████████████████████████████████████████████████████████████| 5000/5000 [00:00<00:00, 2500777.49it/s]\n",
      "100%|█████████████████████████████████████████████████████████████████████████| 5000/5000 [00:00<00:00, 2505857.33it/s]\n"
     ]
    }
   ],
   "source": [
    "y_train = []\n",
    "base_path = \"CIFAR10/train/\"\n",
    "folders = os.listdir(\"CIFAR10/train/\")\n",
    "for i in range(4):\n",
    "    image_names = os.listdir(base_path + folders[i])\n",
    "    labels = [0,0,0,0]\n",
    "    labels[i] = 1\n",
    "    for image_name in tqdm(image_names):\n",
    "        y_train.append(labels)\n",
    "y_train = np.array(y_train)"
   ]
  },
  {
   "cell_type": "code",
   "execution_count": 6,
   "id": "d015ac35",
   "metadata": {},
   "outputs": [
    {
     "name": "stderr",
     "output_type": "stream",
     "text": [
      "100%|██████████████████████████████████████████████████████████████████████████| 1000/1000 [00:00<00:00, 993910.90it/s]\n",
      "100%|██████████████████████████████████████████████████████████████████████████| 1000/1000 [00:00<00:00, 996035.15it/s]\n",
      "100%|██████████████████████████████████████████████████████████████████████████████████████| 1000/1000 [00:00<?, ?it/s]\n",
      "100%|██████████████████████████████████████████████████████████████████████████████████████| 1000/1000 [00:00<?, ?it/s]\n"
     ]
    }
   ],
   "source": [
    "y_test = []\n",
    "base_path = \"CIFAR10/test/\"\n",
    "folders = os.listdir(\"CIFAR10/test/\")\n",
    "for i in range(4):\n",
    "    image_names = os.listdir(base_path + folders[i])\n",
    "    labels = [0,0,0,0]\n",
    "    labels[i] = 1\n",
    "    for image_name in tqdm(image_names):\n",
    "        y_test.append(labels)\n",
    "y_test = np.array(y_test)"
   ]
  },
  {
   "cell_type": "code",
   "execution_count": 7,
   "id": "73bdd8c5",
   "metadata": {},
   "outputs": [
    {
     "name": "stdout",
     "output_type": "stream",
     "text": [
      "y_train shape:(20000, 4)\n",
      "y_test shape:(4000, 4)\n"
     ]
    }
   ],
   "source": [
    "print(f\"y_train shape:{y_train.shape}\\ny_test shape:{y_test.shape}\")"
   ]
  },
  {
   "cell_type": "code",
   "execution_count": 8,
   "id": "1e054473",
   "metadata": {},
   "outputs": [
    {
     "name": "stdout",
     "output_type": "stream",
     "text": [
      "x_train shape:20000\n",
      "x_test shape:4000\n"
     ]
    }
   ],
   "source": [
    "print(f\"x_train shape:{len(x_train)}\\nx_test shape:{len(X_test)}\")"
   ]
  },
  {
   "cell_type": "code",
   "execution_count": 9,
   "id": "6c03b193",
   "metadata": {},
   "outputs": [
    {
     "data": {
      "image/png": "[encoded data removed]",
      "text/plain": [
       "<Figure size 432x288 with 1 Axes>"
      ]
     },
     "metadata": {
      "needs_background": "light"
     },
     "output_type": "display_data"
    }
   ],
   "source": [
    "x_train_grayscale = rgb2gray(x_train)\n",
    "x_test_grayscale = rgb2gray(x_test)\n",
    "imgplot = plt.imshow(x_train_grayscale[1], cmap=plt.get_cmap('gray'))"
   ]
  },
  {
   "cell_type": "code",
   "execution_count": 10,
   "id": "0ca83591",
   "metadata": {
    "scrolled": false
   },
   "outputs": [
    {
     "data": {
      "image/png": "[encoded data removed]",
      "text/plain": [
       "<Figure size 432x288 with 1 Axes>"
      ]
     },
     "metadata": {
      "needs_background": "light"
     },
     "output_type": "display_data"
    }
   ],
   "source": [
    "imgplot = plt.imshow(x_train[1])"
   ]
  },
  {
   "cell_type": "markdown",
   "id": "e89effd3",
   "metadata": {},
   "source": [
    "Normalizing the images and making all the pixels fit in a [1...1024] array"
   ]
  },
  {
   "cell_type": "code",
   "execution_count": 11,
   "id": "34d89418",
   "metadata": {},
   "outputs": [
    {
     "name": "stdout",
     "output_type": "stream",
     "text": [
      "20000\n",
      "4000\n"
     ]
    }
   ],
   "source": [
    "x_train_grayscale_normalized =  x_train_grayscale/255\n",
    "x_test_grayscale_normalized = x_test_grayscale/255\n",
    "train_images = []\n",
    "test_images = []\n",
    "x_train_grayscale_normalized = x_train_grayscale_normalized.reshape(-1, 1024)\n",
    "x_test_grayscale_normalized = x_test_grayscale_normalized.reshape(-1, 1024)\n",
    "for i in range(20000):\n",
    "    image = np.zeros((1024, 1))\n",
    "    for j in range(1024):\n",
    "        image[j, 0] = x_train_grayscale_normalized[i, j]\n",
    "    train_images.append(image) \n",
    "for i in range(4000):\n",
    "    image = np.zeros((1024, 1))\n",
    "    for j in range(1024):\n",
    "        image[j, 0] = x_test_grayscale_normalized[i, j]\n",
    "    test_images.append(image)\n",
    "print(len(train_images))\n",
    "print(len(test_images))"
   ]
  },
  {
   "cell_type": "markdown",
   "id": "577d5e69",
   "metadata": {},
   "source": [
    "Shuffling the images and their labels. Since our labels are in a different array we use a rather different shuffle from a library called sklearn.utils. This shuffle alows us to shuffle two arrays at the same time."
   ]
  },
  {
   "cell_type": "code",
   "execution_count": 12,
   "id": "5836a795",
   "metadata": {},
   "outputs": [],
   "source": [
    "train_images,y_train = shuffle(train_images, y_train)\n",
    "test_images,y_test = shuffle(test_images, y_test)"
   ]
  },
  {
   "cell_type": "markdown",
   "id": "9c26d0ee",
   "metadata": {},
   "source": [
    "<h1> Part 2: Feedforwarding </h1>\n",
    "in this part we will implement the feed forwarding algorithm for our learning neurons. We use the sigmoid activation function."
   ]
  },
  {
   "cell_type": "code",
   "execution_count": 13,
   "id": "fd073845",
   "metadata": {},
   "outputs": [],
   "source": [
    "W1 = np.random.normal(size=(16, 1024))\n",
    "W2 = np.random.normal(size=(16, 16))\n",
    "W3 = np.random.normal(size=(4, 16))\n",
    "\n",
    "b1 = np.zeros((16, 1))\n",
    "b2 = np.zeros((16, 1))\n",
    "b3 = np.zeros((4, 1))"
   ]
  },
  {
   "cell_type": "code",
   "execution_count": 14,
   "id": "e5d9e00e",
   "metadata": {},
   "outputs": [],
   "source": [
    "def sigmoid(x):\n",
    "    return 1 / (1 + np.exp(-x))\n",
    "def sigmoid_deriv(x):\n",
    "    return sigmoid(x) * (1 - sigmoid(x))"
   ]
  },
  {
   "cell_type": "code",
   "execution_count": 15,
   "id": "cdb03a02",
   "metadata": {},
   "outputs": [
    {
     "name": "stdout",
     "output_type": "stream",
     "text": [
      "Accuracy: 0.52\n"
     ]
    }
   ],
   "source": [
    "number_of_correct_estimations = 0\n",
    "\n",
    "for i in range(200):\n",
    "    a0 = train_images[i]\n",
    "    a1 = sigmoid(W1 @ a0 + b1)\n",
    "    a2 = sigmoid(W2 @ a1 + b2)\n",
    "    a3 = sigmoid(W3 @ a2 + b3)\n",
    "    \n",
    "    predicted_number = np.where(a3 == np.amax(a3))\n",
    "    real_number = np.where(y_train[i] == np.amax(y_train[i]))\n",
    "    \n",
    "    try: \n",
    "        if predicted_number[0] == real_number[0]:\n",
    "            number_of_correct_estimations += 1\n",
    "    except:\n",
    "        pass\n",
    "print(f\"Accuracy: {number_of_correct_estimations / 100}\")"
   ]
  },
  {
   "cell_type": "markdown",
   "id": "27137d8d",
   "metadata": {},
   "source": [
    "<h1> Part3: Backpropegation </h1>\n",
    "in this part we will implement the backpropegation algorithm."
   ]
  },
  {
   "cell_type": "code",
   "execution_count": 28,
   "id": "fd8e4cce",
   "metadata": {},
   "outputs": [],
   "source": [
    "batch_size = 16\n",
    "learning_rate = 0.3\n",
    "number_of_epochs = 10"
   ]
  },
  {
   "cell_type": "code",
   "execution_count": 17,
   "id": "d2b9e4f1",
   "metadata": {},
   "outputs": [
    {
     "name": "stdout",
     "output_type": "stream",
     "text": [
      "Wall time: 1min\n"
     ]
    }
   ],
   "source": [
    "%%time\n",
    "total_costs = []\n",
    "W1 = np.random.normal(size=(16, 1024))\n",
    "W2 = np.random.normal(size=(16, 16))\n",
    "W3 = np.random.normal(size=(4, 16))\n",
    "\n",
    "b1 = np.zeros((16, 1))\n",
    "b2 = np.zeros((16, 1))\n",
    "b3 = np.zeros((4, 1))\n",
    "\n",
    "for epoch in range(number_of_epochs):\n",
    "    batches = [train_images[x:x+batch_size] for x in range(0, 200, batch_size)]\n",
    "    for batch in batches:\n",
    "        grad_W1 = np.zeros((16, 1024))\n",
    "        grad_W2 = np.zeros((16, 16))\n",
    "        grad_W3 = np.zeros((4, 16))\n",
    "        \n",
    "        grad_b1 = np.zeros((16, 1))\n",
    "        grad_b2 = np.zeros((16, 1))\n",
    "        grad_b3 = np.zeros((4, 1))\n",
    "        \n",
    "        cout = 0\n",
    "        for image in batch:\n",
    "            label = np.zeros((4, 1))\n",
    "            for i in range(4):\n",
    "                label[i, 0] = y_train[cout][i]\n",
    "            cout += 1\n",
    "            a1 = sigmoid(W1 @ image + b1)\n",
    "            a2 = sigmoid(W2 @ a1 + b2)\n",
    "            a3 = sigmoid(W3 @ a2 + b3)\n",
    "            \n",
    "            # ---- Last layer\n",
    "            # weight\n",
    "            for j in range(grad_W3.shape[0]):\n",
    "                for k in range(grad_W3.shape[1]):\n",
    "                    grad_W3[j, k] += 2 * (a3[j, 0] - label[j, 0]) * a3[j, 0] * (1 - a3[j, 0]) * a2[k, 0]\n",
    "            # bias\n",
    "            for j in range(grad_b3.shape[0]):\n",
    "                    grad_b3[j, 0] += 2 * (a3[j, 0] - label[j, 0]) * a3[j, 0] * (1 - a3[j, 0])\n",
    "            \n",
    "            # ---- 3rd layer\n",
    "            # activation\n",
    "            delta_3 = np.zeros((16, 1))\n",
    "            for k in range(16):\n",
    "                for j in range(4):\n",
    "                    delta_3[k, 0] += 2 * (a3[j, 0] - label[j, 0]) * a3[j, 0] * (1 - a3[j, 0]) * W3[j, k]\n",
    "            \n",
    "            # weight\n",
    "            for k in range(grad_W2.shape[0]):\n",
    "                for m in range(grad_W2.shape[1]):\n",
    "                    grad_W2[k, m] += delta_3[k, 0] * a2[k,0] * (1 - a2[k, 0]) * a1[m, 0]\n",
    "            \n",
    "            # bias\n",
    "            for k in range(grad_b2.shape[0]):\n",
    "                    grad_b2[k, 0] += delta_3[k, 0] * a2[k, 0] * (1 - a2[k, 0])\n",
    "                    \n",
    "            # ---- 2nd layer\n",
    "            # activation\n",
    "            delta_2 = np.zeros((16, 1))\n",
    "            for m in range(16):\n",
    "                for k in range(16):\n",
    "                    delta_2[m, 0] += delta_3[k, 0] * a2[k, 0] * (1 - a2[k, 0]) * W2[k, m]\n",
    "            \n",
    "            # weight\n",
    "            for m in range(grad_W1.shape[0]):\n",
    "                for v in range(grad_W1.shape[1]):\n",
    "                    grad_W1[m, v] += delta_2[m, 0] * a1[m,0] * (1 - a1[m, 0]) * image[v, 0]\n",
    "                    \n",
    "            # bias\n",
    "            for m in range(grad_b1.shape[0]):\n",
    "                    grad_b1[m, 0] += delta_2[m, 0] * a1[m, 0] * (1 - a1[m, 0])\n",
    "                    \n",
    "        W3 = W3 - (learning_rate * (grad_W3 / batch_size))\n",
    "        W2 = W2 - (learning_rate * (grad_W2 / batch_size))\n",
    "        W1 = W1 - (learning_rate * (grad_W1 / batch_size))\n",
    "        \n",
    "        b3 = b3 - (learning_rate * (grad_b3 / batch_size))\n",
    "        b2 = b2 - (learning_rate * (grad_b2 / batch_size))\n",
    "        b1 = b1 - (learning_rate * (grad_b1 / batch_size))\n",
    "    \n",
    "    # calculate cost average per epoch\n",
    "    cost = 0\n",
    "    counter = 0\n",
    "    for train_data in train_images[:200]:\n",
    "        a0 = train_data\n",
    "        a1 = sigmoid(W1 @ a0 + b1)\n",
    "        a2 = sigmoid(W2 @ a1 + b2)\n",
    "        a3 = sigmoid(W3 @ a2 + b3)\n",
    "        \n",
    "        for j in range(4):\n",
    "            cost += np.power((a3[j, 0] - y_train[counter][j]), 2)\n",
    "        counter += 1\n",
    "            \n",
    "    cost /= 200\n",
    "    total_costs.append(cost)"
   ]
  },
  {
   "cell_type": "markdown",
   "id": "f107ba38",
   "metadata": {},
   "source": [
    "As we can see the time we waited for Backpropagation without Vectorization is aproximately 1 minute long."
   ]
  },
  {
   "cell_type": "code",
   "execution_count": 18,
   "id": "55583c95",
   "metadata": {},
   "outputs": [
    {
     "name": "stdout",
     "output_type": "stream",
     "text": [
      "Accuracy: 0.52\n"
     ]
    },
    {
     "data": {
      "image/png": "[encoded data removed]",
      "text/plain": [
       "<Figure size 432x288 with 1 Axes>"
      ]
     },
     "metadata": {
      "needs_background": "light"
     },
     "output_type": "display_data"
    }
   ],
   "source": [
    "epoch_size = [x for x in range(number_of_epochs)]\n",
    "plt.plot(epoch_size, total_costs)\n",
    "\n",
    "for i in range(200):\n",
    "    a0 = train_images[i]\n",
    "    a1 = sigmoid(W1 @ a0 + b1)\n",
    "    a2 = sigmoid(W2 @ a1 + b2)\n",
    "    a3 = sigmoid(W3 @ a2 + b3)\n",
    "    \n",
    "    predicted_number = np.where(a3 == np.amax(a3))\n",
    "    real_number = np.where(y_train[i] == np.amax(y_train[i]))\n",
    "    \n",
    "    try:\n",
    "        if predicted_number == real_number:\n",
    "            number_of_correct_estimations += 1\n",
    "    except:\n",
    "        pass\n",
    "        \n",
    "print(f\"Accuracy: {number_of_correct_estimations / 100}\")"
   ]
  },
  {
   "cell_type": "markdown",
   "id": "303fbe08",
   "metadata": {},
   "source": [
    "This graph shows that which each epoch our neurons learn more and the loss gets lower."
   ]
  },
  {
   "cell_type": "markdown",
   "id": "b86446b1",
   "metadata": {},
   "source": [
    "<h1> Part 4: Vectorization </h1>\n",
    "    The time that we had to wait for our Backpropagation was too much. We can drastically lower the time we need to wait with vectorizing our for loops and implementing them using matrix multiplications."
   ]
  },
  {
   "cell_type": "code",
   "execution_count": 29,
   "id": "5cf7622f",
   "metadata": {},
   "outputs": [
    {
     "name": "stdout",
     "output_type": "stream",
     "text": [
      "Wall time: 915 ms\n"
     ]
    }
   ],
   "source": [
    "%%time\n",
    "\n",
    "W1 = np.random.normal(size=(16, 1024))\n",
    "W2 = np.random.normal(size=(16, 16))\n",
    "W3 = np.random.normal(size=(4, 16))\n",
    "\n",
    "b1 = np.zeros((16, 1))\n",
    "b2 = np.zeros((16, 1))\n",
    "b3 = np.zeros((4, 1))\n",
    "\n",
    "total_costs = []\n",
    "batches = [train_images[x:x+batch_size] for x in range(0, 200, batch_size)]\n",
    "for epoch in range(number_of_epochs):\n",
    "    for batch in batches:\n",
    "        grad_W1 = np.zeros((16, 1024))\n",
    "        grad_W2 = np.zeros((16, 16))\n",
    "        grad_W3 = np.zeros((4, 16))\n",
    "        \n",
    "        grad_b1 = np.zeros((16, 1))\n",
    "        grad_b2 = np.zeros((16, 1))\n",
    "        grad_b3 = np.zeros((4, 1))\n",
    "        \n",
    "        cout = 0\n",
    "        for image in batch:\n",
    "            label = np.zeros((4, 1))\n",
    "            for i in range(4):\n",
    "                label[i, 0] = y_train[cout][i]\n",
    "            \n",
    "            a0 = image\n",
    "            #print(a0.shape)\n",
    "            a1 = sigmoid(W1 @ a0 + b1)\n",
    "            #print(a1.shape)\n",
    "            a2 = sigmoid(W2 @ a1 + b2)\n",
    "            #print(a2.shape)\n",
    "            a3 = sigmoid(W3 @ a2 + b3)\n",
    "            #print(a3.shape)\n",
    "        \n",
    "            #print(a0)\n",
    "            #print(a1)\n",
    "            #print(a2)\n",
    "            #print(a3)\n",
    "            #print(label)\n",
    "        \n",
    "            cout += 1\n",
    "            \n",
    "            # ---- Last layer\n",
    "            # weight\n",
    "            #print((a3 - label).shape)\n",
    "            grad_W3 += (2 * (a3 - label) * a3 * (1 - a3)) @ np.transpose(a2)\n",
    "            #print(grad_W3)\n",
    "            \n",
    "            # bias\n",
    "            grad_b3 += 2 * (a3 - label) * a3 * (1 - a3)\n",
    "            \n",
    "            # ---- 3rd layer\n",
    "            # activation\n",
    "            delta_3 = np.zeros((16, 1))\n",
    "            delta_3 += np.transpose(W3) @ (2 *(a3 - label) * a3 * (1 - a3))\n",
    "            #print(f\"delta_3{delta_3}\")\n",
    "            \n",
    "            # weight\n",
    "            grad_W2 += (a2 * (1 - a2) * delta_3) @ np.transpose(a1)\n",
    "            \n",
    "            # bias\n",
    "            grad_b2 += delta_3 * a2 * (1 - a2)\n",
    "                    \n",
    "            # ---- 2nd layer\n",
    "            # activation\n",
    "            delta_2 = np.zeros((16, 1))\n",
    "            delta_2 += np.transpose(W2) @ delta_3 * a2 * (1 - a2)\n",
    "            \n",
    "            # weight\n",
    "            grad_W1 += (delta_2 * a1 * (1 - a1)) @ np.transpose(a0)\n",
    "                    \n",
    "            # bias\n",
    "            grad_b1 += delta_2 * a1 * (1 - a1)\n",
    "        \n",
    "        W3 = W3 - (learning_rate * (grad_W3 / batch_size))\n",
    "        W2 = W2 - (learning_rate * (grad_W2 / batch_size))\n",
    "        W1 = W1 - (learning_rate * (grad_W1 / batch_size))\n",
    "        \n",
    "        b3 = b3 - (learning_rate * (grad_b3 / batch_size))\n",
    "        b2 = b2 - (learning_rate * (grad_b2 / batch_size))\n",
    "        b1 = b1 - (learning_rate * (grad_b1 / batch_size))\n",
    "    \n",
    "    # calculate cost average per epoch\n",
    "    cost = 0\n",
    "    counter = 0\n",
    "    for train_data in train_images[:200]:\n",
    "        a0 = train_data\n",
    "        a1 = sigmoid(W1 @ a0 + b1)\n",
    "        a2 = sigmoid(W2 @ a1 + b2)\n",
    "        a3 = sigmoid(W3 @ a2 + b3)\n",
    "        for j in range(4):\n",
    "            cost += np.power((a3[j, 0] - y_train[counter][j]), 2)\n",
    "            \n",
    "    cost /= 200\n",
    "    total_costs.append(cost) "
   ]
  },
  {
   "cell_type": "markdown",
   "id": "5bddfab3",
   "metadata": {},
   "source": [
    "As we can see the time we need to wait is less than 1 second."
   ]
  },
  {
   "cell_type": "code",
   "execution_count": 30,
   "id": "1ab7cc97",
   "metadata": {},
   "outputs": [
    {
     "name": "stdout",
     "output_type": "stream",
     "text": [
      "Accuracy: 0.52\n"
     ]
    },
    {
     "data": {
      "image/png": "[encoded data removed]",
      "text/plain": [
       "<Figure size 432x288 with 1 Axes>"
      ]
     },
     "metadata": {
      "needs_background": "light"
     },
     "output_type": "display_data"
    }
   ],
   "source": [
    "epoch_size = [x for x in range(number_of_epochs)]\n",
    "plt.plot(epoch_size, total_costs)\n",
    "\n",
    "for i in range(200):\n",
    "    a0 = train_images[i]\n",
    "    a1 = sigmoid(W1 @ a0 + b1)\n",
    "    a2 = sigmoid(W2 @ a1 + b2)\n",
    "    a3 = sigmoid(W3 @ a2 + b3)\n",
    "    \n",
    "    predicted_number = np.where(a3 == np.amax(a3))\n",
    "    real_number = np.where(y_train[i] == np.amax(y_train[i]))\n",
    "    \n",
    "    try:\n",
    "        if predicted_number == real_number:\n",
    "            number_of_correct_estimations += 1\n",
    "    except:\n",
    "        pass\n",
    "        \n",
    "print(f\"Accuracy: {number_of_correct_estimations / 100}\")"
   ]
  },
  {
   "cell_type": "markdown",
   "id": "866f7405",
   "metadata": {},
   "source": [
    "The graph is like Backpropagation"
   ]
  },
  {
   "cell_type": "markdown",
   "id": "30e043b6",
   "metadata": {},
   "source": [
    "<h1> Part 5: Testing the whole images </h1>\n",
    "We will now begin to test the whole images and see what the accuracy looks like"
   ]
  },
  {
   "cell_type": "code",
   "execution_count": 31,
   "id": "4108a5fd",
   "metadata": {},
   "outputs": [],
   "source": [
    "batch_size = 16\n",
    "learning_rate = 0.3\n",
    "number_of_epochs = 40"
   ]
  },
  {
   "cell_type": "code",
   "execution_count": 36,
   "id": "b767c3a7",
   "metadata": {},
   "outputs": [
    {
     "name": "stdout",
     "output_type": "stream",
     "text": [
      "Wall time: 2min 17s\n"
     ]
    }
   ],
   "source": [
    "%%time\n",
    "\n",
    "W1 = np.random.normal(size=(16, 1024))\n",
    "W2 = np.random.normal(size=(16, 16))\n",
    "W3 = np.random.normal(size=(4, 16))\n",
    "\n",
    "b1 = np.zeros((16, 1))\n",
    "b2 = np.zeros((16, 1))\n",
    "b3 = np.zeros((4, 1))\n",
    "\n",
    "total_costs = []\n",
    "batches = [train_images[x:x+batch_size] for x in range(0, 8000, batch_size)]\n",
    "for epoch in range(number_of_epochs):\n",
    "    for batch in batches:\n",
    "        grad_W1 = np.zeros((16, 1024))\n",
    "        grad_W2 = np.zeros((16, 16))\n",
    "        grad_W3 = np.zeros((4, 16))\n",
    "        \n",
    "        grad_b1 = np.zeros((16, 1))\n",
    "        grad_b2 = np.zeros((16, 1))\n",
    "        grad_b3 = np.zeros((4, 1))\n",
    "        \n",
    "        cout = 0\n",
    "        for image in batch:\n",
    "            label = np.zeros((4, 1))\n",
    "            for i in range(4):\n",
    "                label[i, 0] = y_train[cout][i]\n",
    "            \n",
    "            a0 = image\n",
    "            #print(a0.shape)\n",
    "            a1 = sigmoid(W1 @ a0 + b1)\n",
    "            #print(a1.shape)\n",
    "            a2 = sigmoid(W2 @ a1 + b2)\n",
    "            #print(a2.shape)\n",
    "            a3 = sigmoid(W3 @ a2 + b3)\n",
    "            #print(a3.shape)\n",
    "        \n",
    "            #print(a0)\n",
    "            #print(a1)\n",
    "            #print(a2)\n",
    "            #print(a3)\n",
    "            #print(label)\n",
    "        \n",
    "            cout += 1\n",
    "            \n",
    "            # ---- Last layer\n",
    "            # weight\n",
    "            #print((a3 - label).shape)\n",
    "            grad_W3 += (2 * (a3 - label) * a3 * (1 - a3)) @ np.transpose(a2)\n",
    "            #print(grad_W3)\n",
    "            \n",
    "            # bias\n",
    "            grad_b3 += 2 * (a3 - label) * a3 * (1 - a3)\n",
    "            \n",
    "            # ---- 3rd layer\n",
    "            # activation\n",
    "            delta_3 = np.zeros((16, 1))\n",
    "            delta_3 += np.transpose(W3) @ (2 *(a3 - label) * a3 * (1 - a3))\n",
    "            #print(f\"delta_3{delta_3}\")\n",
    "            \n",
    "            # weight\n",
    "            grad_W2 += (a2 * (1 - a2) * delta_3) @ np.transpose(a1)\n",
    "            \n",
    "            # bias\n",
    "            grad_b2 += delta_3 * a2 * (1 - a2)\n",
    "                    \n",
    "            # ---- 2nd layer\n",
    "            # activation\n",
    "            delta_2 = np.zeros((16, 1))\n",
    "            delta_2 += np.transpose(W2) @ delta_3 * a2 * (1 - a2)\n",
    "            \n",
    "            # weight\n",
    "            grad_W1 += (delta_2 * a1 * (1 - a1)) @ np.transpose(a0)\n",
    "                    \n",
    "            # bias\n",
    "            grad_b1 += delta_2 * a1 * (1 - a1)\n",
    "        \n",
    "        W3 = W3 - (learning_rate * (grad_W3 / batch_size))\n",
    "        W2 = W2 - (learning_rate * (grad_W2 / batch_size))\n",
    "        W1 = W1 - (learning_rate * (grad_W1 / batch_size))\n",
    "        \n",
    "        b3 = b3 - (learning_rate * (grad_b3 / batch_size))\n",
    "        b2 = b2 - (learning_rate * (grad_b2 / batch_size))\n",
    "        b1 = b1 - (learning_rate * (grad_b1 / batch_size))\n",
    "    \n",
    "    # calculate cost average per epoch\n",
    "    cost = 0\n",
    "    counter = 0\n",
    "    for train_data in train_images[:8000]:\n",
    "        a0 = train_data\n",
    "        a1 = sigmoid(W1 @ a0 + b1)\n",
    "        a2 = sigmoid(W2 @ a1 + b2)\n",
    "        a3 = sigmoid(W3 @ a2 + b3)\n",
    "        for j in range(4):\n",
    "            cost += np.power((a3[j, 0] - y_train[counter][j]), 2)\n",
    "            \n",
    "    cost /= 8000\n",
    "    total_costs.append(cost) "
   ]
  },
  {
   "cell_type": "code",
   "execution_count": 37,
   "id": "cb1e7269",
   "metadata": {},
   "outputs": [
    {
     "name": "stdout",
     "output_type": "stream",
     "text": [
      "Accuracy: 0.52\n"
     ]
    },
    {
     "data": {
      "image/png": "[encoded data removed]",
      "text/plain": [
       "<Figure size 432x288 with 1 Axes>"
      ]
     },
     "metadata": {
      "needs_background": "light"
     },
     "output_type": "display_data"
    }
   ],
   "source": [
    "epoch_size = [x for x in range(number_of_epochs)]\n",
    "plt.plot(epoch_size, total_costs)\n",
    "\n",
    "for i in range(8000):\n",
    "    a0 = train_images[i]\n",
    "    a1 = sigmoid(W1 @ a0 + b1)\n",
    "    a2 = sigmoid(W2 @ a1 + b2)\n",
    "    a3 = sigmoid(W3 @ a2 + b3)\n",
    "    \n",
    "    predicted_number = np.where(a3 == np.amax(a3))\n",
    "    real_number = np.where(y_train[i] == np.amax(y_train[i]))\n",
    "    \n",
    "    try:\n",
    "        if predicted_number == real_number:\n",
    "            number_of_correct_estimations += 1\n",
    "    except:\n",
    "        pass\n",
    "        \n",
    "print(f\"Accuracy: {number_of_correct_estimations / 100}\")"
   ]
  },
  {
   "cell_type": "markdown",
   "id": "00fb7220",
   "metadata": {},
   "source": [
    "The accuracy is 52 percent which is expected. The graph though is very intriguing and shows how big of a loss we have once we start learning the images but as the epoch increases it gets lower and lower."
   ]
  },
  {
   "cell_type": "code",
   "execution_count": null,
   "id": "d8e2cbcb",
   "metadata": {},
   "outputs": [],
   "source": []
  }
 ],
 "metadata": {
  "kernelspec": {
   "display_name": "Python 3",
   "language": "python",
   "name": "python3"
  },
  "language_info": {
   "codemirror_mode": {
    "name": "ipython",
    "version": 3
   },
   "file_extension": ".py",
   "mimetype": "text/x-python",
   "name": "python",
   "nbconvert_exporter": "python",
   "pygments_lexer": "ipython3",
   "version": "3.9.0"
  }
 },
 "nbformat": 4,
 "nbformat_minor": 5
}
